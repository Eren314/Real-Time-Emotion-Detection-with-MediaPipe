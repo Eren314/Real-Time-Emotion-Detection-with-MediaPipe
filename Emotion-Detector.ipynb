{
 "cells": [
  {
   "cell_type": "markdown",
   "metadata": {},
   "source": [
    "# Emotion Detection with MediaPipe"
   ]
  },
  {
   "cell_type": "markdown",
   "metadata": {},
   "source": [
    "**First execute `pip install requirements.txt` in command line in order to setup the environment.\n",
    "Then, import the libraries.**"
   ]
  },
  {
   "cell_type": "code",
   "execution_count": 1,
   "metadata": {},
   "outputs": [],
   "source": [
    "import mediapipe as mp\n",
    "import cv2 \n",
    "import csv\n",
    "import os\n",
    "import numpy as np\n",
    "import pandas as pd\n",
    "import pickle\n",
    "import time\n",
    "from sklearn.model_selection import train_test_split\n",
    "from sklearn.pipeline import make_pipeline \n",
    "from sklearn.preprocessing import StandardScaler \n",
    "from sklearn.linear_model import LogisticRegression, RidgeClassifier\n",
    "from sklearn.ensemble import RandomForestClassifier, GradientBoostingClassifier\n",
    "from sklearn.metrics import accuracy_score\n",
    "from PIL import ImageFont, ImageDraw, Image"
   ]
  },
  {
   "cell_type": "code",
   "execution_count": 2,
   "metadata": {},
   "outputs": [],
   "source": [
    "mpDraw = mp.solutions.drawing_utils\n",
    "mediapipeHolistic = mp.solutions.holistic"
   ]
  },
  {
   "cell_type": "code",
   "execution_count": 3,
   "metadata": {},
   "outputs": [],
   "source": [
    "# mediapipe testing\n",
    "# press q to quit\n",
    "cap = cv2.VideoCapture(0)\n",
    "\n",
    "with mediapipeHolistic.Holistic(min_detection_confidence=0.01, min_tracking_confidence=0.01) as holistic:\n",
    "    \n",
    "    while cap.isOpened():\n",
    "        ret, frame = cap.read()\n",
    "        \n",
    "        image = cv2.cvtColor(frame, cv2.COLOR_BGR2RGB)\n",
    "        image.flags.writeable = False        \n",
    "\n",
    "        results = holistic.process(image)\n",
    "        \n",
    "        image.flags.writeable = True   \n",
    "        image = cv2.cvtColor(image, cv2.COLOR_RGB2BGR)\n",
    "        \n",
    "       \n",
    "        # Face\n",
    "        mpDraw.draw_landmarks(image, results.face_landmarks, mediapipeHolistic.FACE_CONNECTIONS, \n",
    "                                 mpDraw.DrawingSpec(color=(255, 160, 122), thickness=1, circle_radius=1),\n",
    "                                 mpDraw.DrawingSpec(color=(121,44,250), thickness=1, circle_radius=1)\n",
    "                                 )\n",
    "\n",
    "        # Pose\n",
    "        mpDraw.draw_landmarks(image, results.pose_landmarks, mediapipeHolistic.POSE_CONNECTIONS, \n",
    "                                 mpDraw.DrawingSpec(color=(255, 160, 122),  circle_radius=4),\n",
    "                                 mpDraw.DrawingSpec(color=(121,44,250),  circle_radius=2)\n",
    "                                   )\n",
    "\n",
    "        cv2.imshow('Test', image)\n",
    "\n",
    "        if cv2.waitKey(10) & 0xFF == ord('q'):\n",
    "            break\n",
    "\n",
    "cap.release()\n",
    "cv2.destroyAllWindows()"
   ]
  },
  {
   "cell_type": "markdown",
   "metadata": {},
   "source": [
    "**We create our dataset of videos with following codes.**"
   ]
  },
  {
   "cell_type": "code",
   "execution_count": 4,
   "metadata": {},
   "outputs": [
    {
     "data": {
      "text/plain": [
       "501"
      ]
     },
     "execution_count": 4,
     "metadata": {},
     "output_type": "execute_result"
    }
   ],
   "source": [
    "coordinates = len(results.pose_landmarks.landmark)+len(results.face_landmarks.landmark)\n",
    "coordinates"
   ]
  },
  {
   "cell_type": "code",
   "execution_count": 5,
   "metadata": {},
   "outputs": [],
   "source": [
    "landmarks = ['class']\n",
    "for coordinates_number in range(1, coordinates+1):\n",
    "    landmarks += ['x{}'.format(coordinates_number), 'y{}'.format(coordinates_number), 'z{}'.format(coordinates_number), 'v{}'.format(coordinates_number)]"
   ]
  },
  {
   "cell_type": "code",
   "execution_count": null,
   "metadata": {},
   "outputs": [],
   "source": [
    "with open('detection.csv', mode='w', newline='') as f:\n",
    "    csv_writer = csv.writer(f, delimiter=',', quotechar='\"', quoting=csv.QUOTE_MINIMAL)\n",
    "    csv_writer.writerow(landmarks)"
   ]
  },
  {
   "cell_type": "code",
   "execution_count": 6,
   "metadata": {},
   "outputs": [],
   "source": [
    "# class you want to train for \n",
    "# \"Neutral\" is for example\n",
    "trainName = \"Neutral\"\n",
    "   \n",
    "cap = cv2.VideoCapture(0)\n",
    "\n",
    "with mediapipeHolistic.Holistic(min_detection_confidence=0.01, min_tracking_confidence=0.01) as holistic:\n",
    "    \n",
    "    while cap.isOpened():\n",
    "        ret, frame = cap.read()\n",
    "        \n",
    "        if ret==False:\n",
    "             break\n",
    "       \n",
    "        image = cv2.cvtColor(frame, cv2.COLOR_BGR2RGB)        \n",
    "     \n",
    "        results = holistic.process(image)\n",
    "\n",
    "        image.flags.writeable = True   \n",
    "        image = cv2.cvtColor(image, cv2.COLOR_RGB2BGR)\n",
    "        \n",
    "        # Face\n",
    "        mpDraw.draw_landmarks(image, results.face_landmarks, mediapipeHolistic.FACE_CONNECTIONS, \n",
    "                                 mpDraw.DrawingSpec(color=(255, 160, 122), thickness=1, circle_radius=1),\n",
    "                                 mpDraw.DrawingSpec(color=(121,44,250), thickness=1, circle_radius=1)\n",
    "                                 )\n",
    "\n",
    "        # Pose\n",
    "        mpDraw.draw_landmarks(image, results.pose_landmarks, mediapipeHolistic.POSE_CONNECTIONS, \n",
    "                                 mpDraw.DrawingSpec(color=(255, 160, 122),  circle_radius=4),\n",
    "                                 mpDraw.DrawingSpec(color=(121,44,250),  circle_radius=2)\n",
    "                                   )\n",
    "\n",
    "        try:\n",
    "            coordinate_pose = results.pose_landmarks.landmark\n",
    "            seqPose = list(np.array([[landmark.x, landmark.y, landmark.z, landmark.visibility] for landmark in coordinate_pose]).flatten())\n",
    "            \n",
    "            coordinate_face = results.face_landmarks.landmark\n",
    "            seqFace = list(np.array([[landmark.x, landmark.y, landmark.z, landmark.visibility] for landmark in coordinate_face]).flatten())\n",
    "\n",
    "            line = seqPose+seqFace\n",
    "\n",
    "            line.insert(0, trainName)\n",
    "\n",
    "            with open('detection.csv', mode='a', newline='') as f:\n",
    "                csv_writer = csv.writer(f, delimiter=',', quotechar='\"', quoting=csv.QUOTE_MINIMAL)\n",
    "                csv_writer.writerow(line) \n",
    "            \n",
    "        except:\n",
    "            pass\n",
    "                        \n",
    "        cv2.imshow('Data Generation', image)\n",
    "\n",
    "        if cv2.waitKey(10) & 0xFF == ord('c'):\n",
    "            break\n",
    "\n",
    "cap.release()\n",
    "cv2.destroyAllWindows()"
   ]
  },
  {
   "cell_type": "code",
   "execution_count": 7,
   "metadata": {},
   "outputs": [],
   "source": [
    "csv = pd.read_csv('detection.csv', encoding='iso-8859-9')"
   ]
  },
  {
   "cell_type": "code",
   "execution_count": 8,
   "metadata": {},
   "outputs": [],
   "source": [
    "X = csv.drop('class', axis=1) \n",
    "y = csv['class'] \n",
    "X_train, X_test, y_train, y_test = train_test_split(X, y, test_size=0.3, random_state=1234)"
   ]
  },
  {
   "cell_type": "code",
   "execution_count": 9,
   "metadata": {},
   "outputs": [],
   "source": [
    "sklearnP = {\n",
    "    'lr':make_pipeline(StandardScaler(), LogisticRegression(solver='lbfgs', max_iter=10000)),\n",
    "    'rc':make_pipeline(StandardScaler(), RidgeClassifier()),\n",
    "    'rf':make_pipeline(StandardScaler(), RandomForestClassifier()),\n",
    "    'gb':make_pipeline(StandardScaler(), GradientBoostingClassifier()),\n",
    "}"
   ]
  },
  {
   "cell_type": "code",
   "execution_count": null,
   "metadata": {},
   "outputs": [],
   "source": [
    "models = {}\n",
    "for algo, pipeline in sklearnP.items():\n",
    "    model = pipeline.fit(X_train, y_train)\n",
    "    models[algo] = model\n",
    "    \n",
    "models['rc'].predict(X_test)"
   ]
  },
  {
   "cell_type": "code",
   "execution_count": null,
   "metadata": {},
   "outputs": [],
   "source": [
    "for algo, model in models.items():\n",
    "    yhat = model.predict(X_test)\n",
    "    print(algo, accuracy_score(y_test, yhat))"
   ]
  },
  {
   "cell_type": "code",
   "execution_count": null,
   "metadata": {},
   "outputs": [],
   "source": [
    "models['rf'].predict(X_test)"
   ]
  },
  {
   "cell_type": "code",
   "execution_count": null,
   "metadata": {},
   "outputs": [],
   "source": [
    "# SAVE THE MODEL\n",
    "with open('duygutespiti.pkl', 'wb') as f:\n",
    "    pickle.dump(models['rf'], f)"
   ]
  },
  {
   "cell_type": "markdown",
   "metadata": {},
   "source": [
    "**Following part is for running the emotion detection program using our trained model.**"
   ]
  },
  {
   "cell_type": "code",
   "execution_count": 10,
   "metadata": {},
   "outputs": [],
   "source": [
    "# LOAD THE MODEL\n",
    "# choose one of the following for your desired language output\n",
    "modelfile = 'emotion-detection-eng.pkl' # for english\n",
    "#modelfile = 'emotion-detection-tr.pkl' # for turkish\n",
    "with open(modelfile, 'rb') as f:\n",
    "    model = pickle.load(f)"
   ]
  },
  {
   "cell_type": "code",
   "execution_count": 11,
   "metadata": {},
   "outputs": [],
   "source": [
    "# press q to quit\n",
    "cap = cv2.VideoCapture(0)\n",
    "\n",
    "with mediapipeHolistic.Holistic(min_detection_confidence=0.5, min_tracking_confidence=0.5) as holistic:\n",
    "    \n",
    "    while cap.isOpened():\n",
    "        ret, frame = cap.read()\n",
    "        b,g,r,a = 0,0,0,0\n",
    "\n",
    "        image = np.zeros((640,480),np.uint8)\n",
    "        image = cv2.cvtColor(frame, cv2.COLOR_BGR2RGB)\n",
    "        image.flags.writeable = False        \n",
    "\n",
    "        results = holistic.process(image)\n",
    "        \n",
    "        image.flags.writeable = True   \n",
    "        image = cv2.cvtColor(image, cv2.COLOR_RGB2BGR)\n",
    "\n",
    "        try:\n",
    "            # Extract Pose landmarks\n",
    "            coordinate_pose = results.pose_landmarks.landmark\n",
    "            seqPose = list(np.array([[landmark.x, landmark.y, landmark.z, landmark.visibility] for landmark in coordinate_pose]).flatten())\n",
    "            \n",
    "            # Extract Face landmarks\n",
    "            coordinate_face = results.face_landmarks.landmark\n",
    "            seqFace = list(np.array([[landmark.x, landmark.y, landmark.z, landmark.visibility] for landmark in coordinate_face]).flatten())\n",
    "            \n",
    "            line = seqPose+seqFace\n",
    "            X = pd.DataFrame([line])\n",
    "            face_pose_class = model.predict(X)[0]\n",
    "            \n",
    "            font = ImageFont.truetype(\"arial.ttf\", 50)\n",
    "            PILImage = Image.fromarray(image)\n",
    "            draw = ImageDraw.Draw(PILImage)\n",
    "            draw.text((15, 10), face_pose_class, font = font, fill = (b, g, r, a))\n",
    "            image = np.array(PILImage)\n",
    "\n",
    "        except:\n",
    "            pass\n",
    "                        \n",
    "        cv2.imshow('Emotion Detection', image)\n",
    "\n",
    "        if cv2.waitKey(10) & 0xFF == ord('q'):\n",
    "            break\n",
    "\n",
    "cap.release()\n",
    "cv2.destroyAllWindows()"
   ]
  },
  {
   "cell_type": "code",
   "execution_count": null,
   "metadata": {},
   "outputs": [],
   "source": []
  }
 ],
 "metadata": {
  "kernelspec": {
   "display_name": "Python 3",
   "language": "python",
   "name": "python3"
  },
  "language_info": {
   "codemirror_mode": {
    "name": "ipython",
    "version": 3
   },
   "file_extension": ".py",
   "mimetype": "text/x-python",
   "name": "python",
   "nbconvert_exporter": "python",
   "pygments_lexer": "ipython3",
   "version": "3.8.0"
  }
 },
 "nbformat": 4,
 "nbformat_minor": 4
}
